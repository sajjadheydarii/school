{
 "cells": [
  {
   "cell_type": "markdown",
   "metadata": {
    "id": "mqx8WdFsYJ23"
   },
   "source": [
    "# **Part2**"
   ]
  },
  {
   "cell_type": "code",
   "execution_count": 1,
   "metadata": {
    "colab": {
     "base_uri": "https://localhost:8080/"
    },
    "id": "keq_k2VnYKgP",
    "outputId": "9ef4a5ed-2b86-4f7c-a98e-f8c3ab296d34"
   },
   "outputs": [
    {
     "name": "stdout",
     "output_type": "stream",
     "text": [
      "('Moein', 10)\n",
      "('Shahram', 9)\n"
     ]
    }
   ],
   "source": [
    "names = [\"Moein\", \"Shahram\"] \n",
    "marks = [10,9]\n",
    "\n",
    "for i in zip(names, marks):\n",
    "    print(i)"
   ]
  },
  {
   "cell_type": "code",
   "execution_count": 2,
   "metadata": {
    "colab": {
     "base_uri": "https://localhost:8080/"
    },
    "id": "ZTfZQXzDYKiW",
    "outputId": "9e4d387b-d52a-4303-c53f-9e6b5027426e"
   },
   "outputs": [
    {
     "name": "stdout",
     "output_type": "stream",
     "text": [
      "Moein 10\n",
      "Shahram 9\n"
     ]
    }
   ],
   "source": [
    "for i,j in zip(names, marks):\n",
    "    print(i,j)"
   ]
  },
  {
   "cell_type": "code",
   "execution_count": 4,
   "metadata": {
    "colab": {
     "base_uri": "https://localhost:8080/"
    },
    "id": "wGLCljVHYKkc",
    "outputId": "73954f77-413a-4483-b25c-78307c931886"
   },
   "outputs": [
    {
     "name": "stdout",
     "output_type": "stream",
     "text": [
      "coconut bitter brown\n",
      "apple sweet red\n"
     ]
    }
   ],
   "source": [
    "##Example\n",
    "#your favorite fruits names 3 count\n",
    "#your favorite taste related to fruits\n",
    "tastes = [\"bitter\", \"sweet\", \"sour\"]\n",
    "fruits_names = [\"coconut\", \"apple\", \"lime\"]\n",
    "colors = [\"brown\", \"red\", \"yellow\"]\n",
    "\n",
    "for i,j,k in zip(fruits_names, tastes, colors):\n",
    "    print(i,j,k)"
   ]
  },
  {
   "cell_type": "code",
   "execution_count": 5,
   "metadata": {
    "colab": {
     "base_uri": "https://localhost:8080/"
    },
    "id": "r5_v8aN2YKmW",
    "outputId": "cd2ab3ef-3443-4a6b-bdb7-3c16003f4098"
   },
   "outputs": [
    {
     "name": "stdout",
     "output_type": "stream",
     "text": [
      "coconut bitter brown\n",
      "apple sweet red\n"
     ]
    }
   ],
   "source": [
    "tastes = [\"bitter\", \"sweet\", \"sour\"]\n",
    "fruits_names = [\"coconut\", \"apple\", \"lime\"]\n",
    "colors = [\"brown\", \"red\"]\n",
    "\n",
    "for i,j,k in zip(fruits_names, tastes, colors):\n",
    "    print(i,j,k)"
   ]
  },
  {
   "cell_type": "code",
   "execution_count": 6,
   "metadata": {
    "colab": {
     "base_uri": "https://localhost:8080/"
    },
    "id": "cIvnJtrEYKoe",
    "outputId": "0a0ec742-fbbc-430b-835f-90630e526322"
   },
   "outputs": [
    {
     "name": "stdout",
     "output_type": "stream",
     "text": [
      "bitter coconut\n",
      "bitter apple\n",
      "bitter lime\n",
      "sweet coconut\n",
      "sweet apple\n",
      "sweet lime\n",
      "sour coconut\n",
      "sour apple\n",
      "sour lime\n"
     ]
    }
   ],
   "source": [
    "for i in tastes:\n",
    "    for j in fruits_names:\n",
    "        print(i,j)"
   ]
  },
  {
   "cell_type": "code",
   "execution_count": 7,
   "metadata": {
    "id": "NFNvdiXdYKqW"
   },
   "outputs": [],
   "source": [
    "names = [\"Moein\", \"Shahram\", \"Shohreh\", \"Ebi\"] "
   ]
  },
  {
   "cell_type": "code",
   "execution_count": 8,
   "metadata": {
    "colab": {
     "base_uri": "https://localhost:8080/"
    },
    "id": "nMh8nJ3cYKsn",
    "outputId": "9ccce6a8-0f2c-439c-d914-2e6347c157bc"
   },
   "outputs": [
    {
     "data": {
      "text/plain": [
       "['Ebi', 'Moein', 'Shahram', 'Shohreh']"
      ]
     },
     "execution_count": 8,
     "metadata": {},
     "output_type": "execute_result"
    }
   ],
   "source": [
    "sorted(names)"
   ]
  },
  {
   "cell_type": "code",
   "execution_count": 14,
   "metadata": {
    "colab": {
     "base_uri": "https://localhost:8080/"
    },
    "id": "ADKsesXZhPLG",
    "outputId": "002acfd1-e934-4f55-901d-fc03654559de"
   },
   "outputs": [
    {
     "data": {
      "text/plain": [
       "[1.2, 4, 5, 6, 8, 9]"
      ]
     },
     "execution_count": 14,
     "metadata": {},
     "output_type": "execute_result"
    }
   ],
   "source": [
    "sorted([5,4,8,9,1.2,6], reverse=False)    #sorted([5,4,8,9,1.2,6])"
   ]
  },
  {
   "cell_type": "code",
   "execution_count": 12,
   "metadata": {
    "colab": {
     "base_uri": "https://localhost:8080/"
    },
    "id": "xjbLRXp0YKuW",
    "outputId": "f8878641-3494-42e5-9a71-6ba76ac442d1"
   },
   "outputs": [
    {
     "data": {
      "text/plain": [
       "[9, 8, 6, 5, 4, 1.2]"
      ]
     },
     "execution_count": 12,
     "metadata": {},
     "output_type": "execute_result"
    }
   ],
   "source": [
    "sorted([5,4,8,9,1.2,6], reverse=True)"
   ]
  },
  {
   "cell_type": "code",
   "execution_count": null,
   "metadata": {
    "id": "OTl5cwaehAim"
   },
   "outputs": [],
   "source": [
    "sorted()"
   ]
  },
  {
   "cell_type": "code",
   "execution_count": 10,
   "metadata": {
    "colab": {
     "base_uri": "https://localhost:8080/"
    },
    "id": "7EZbToLzYKwI",
    "outputId": "ba1d25a3-1b30-4966-f00d-bcc723411130"
   },
   "outputs": [
    {
     "data": {
      "text/plain": [
       "[False, True]"
      ]
     },
     "execution_count": 10,
     "metadata": {},
     "output_type": "execute_result"
    }
   ],
   "source": [
    "sorted([True,False])"
   ]
  },
  {
   "cell_type": "code",
   "execution_count": 15,
   "metadata": {
    "colab": {
     "base_uri": "https://localhost:8080/"
    },
    "id": "KAvAhYGCYKz2",
    "outputId": "d70e450e-6553-4738-b9e4-318102d9920d"
   },
   "outputs": [
    {
     "name": "stdout",
     "output_type": "stream",
     "text": [
      "12.8\n",
      "12\n",
      "8.5\n",
      "8\n",
      "6.5\n",
      "3\n",
      "2\n",
      "1.5\n"
     ]
    }
   ],
   "source": [
    "#Example\n",
    "#number list: 8,12,3,2,1.5,6.5,8.5,12.8\n",
    "\n",
    "for i in sorted([8,12,3,2,1.5,6.5,8.5,12.8], reverse = True):\n",
    "  print(i)"
   ]
  },
  {
   "cell_type": "code",
   "execution_count": 20,
   "metadata": {
    "colab": {
     "base_uri": "https://localhost:8080/"
    },
    "id": "MPBsV_06YK2e",
    "outputId": "dfaf7ea9-21ef-4ab8-e5a8-039507d13a96"
   },
   "outputs": [
    {
     "name": "stdout",
     "output_type": "stream",
     "text": [
      "[8]\n",
      "[12]\n",
      "[3]\n",
      "[2]\n",
      "[1.5]\n",
      "[6.5]\n",
      "[8.5]\n",
      "[12.8]\n"
     ]
    }
   ],
   "source": [
    "number = [8,12,3,2,1.5,6.5,8.5,12.8]\n",
    "\n",
    "for i in number:\n",
    "    w = []\n",
    "    w.append(i)\n",
    "    print(sorted(w, reverse = True))"
   ]
  },
  {
   "cell_type": "code",
   "execution_count": 24,
   "metadata": {
    "colab": {
     "base_uri": "https://localhost:8080/"
    },
    "id": "Vs54uUM8YK4m",
    "outputId": "f59e617c-4bf4-43ee-c5a6-befc6d676151"
   },
   "outputs": [
    {
     "name": "stdout",
     "output_type": "stream",
     "text": [
      "[12.8, 12, 8.5, 8, 6.5, 3, 2, 1.5]\n"
     ]
    }
   ],
   "source": [
    "w = []\n",
    "for i in number:\n",
    "    w.append(i)\n",
    "print(sorted(w, reverse = True))"
   ]
  },
  {
   "cell_type": "code",
   "execution_count": 26,
   "metadata": {
    "colab": {
     "base_uri": "https://localhost:8080/"
    },
    "id": "mK7UALbGYK6e",
    "outputId": "2bd3a5da-cc25-4c8d-e242-0ca9a23bc26b"
   },
   "outputs": [
    {
     "name": "stdout",
     "output_type": "stream",
     "text": [
      "[12.8, 12, 8.5, 8, 6.5, 3, 2, 1.5]\n"
     ]
    }
   ],
   "source": [
    "number = [8,12,3,2,1.5,6.5,8.5,12.8]\n",
    "for i in number:\n",
    "    x = sorted(number, reverse=True)\n",
    "print(x)"
   ]
  },
  {
   "cell_type": "code",
   "execution_count": 27,
   "metadata": {
    "colab": {
     "base_uri": "https://localhost:8080/"
    },
    "id": "wA2QO0ZfYK81",
    "outputId": "5b9a085f-ad52-42fb-e870-39c58e5e2095"
   },
   "outputs": [
    {
     "name": "stdout",
     "output_type": "stream",
     "text": [
      "enter your name: Sajad\n",
      "0  :  S\n",
      "1  :  a\n",
      "2  :  j\n",
      "3  :  a\n",
      "4  :  d\n"
     ]
    }
   ],
   "source": [
    "#0 : S\n",
    "#1 : a\n",
    "#2 : j\n",
    "#3 : a\n",
    "#4 : d\n",
    "\n",
    "#1\n",
    "name = input(\"enter your name: \")\n",
    "\n",
    "for i in range(len(name)):\n",
    "    print(i, \" : \", name[i])"
   ]
  },
  {
   "cell_type": "code",
   "execution_count": 32,
   "metadata": {
    "colab": {
     "base_uri": "https://localhost:8080/"
    },
    "id": "4oBIY04XYK--",
    "outputId": "83e94778-82c3-4f40-de96-3e905570dbfd"
   },
   "outputs": [
    {
     "name": "stdout",
     "output_type": "stream",
     "text": [
      "enter your name: Sajad\n",
      "0  :  S\n",
      "1  :  a\n",
      "2  :  j\n",
      "3  :  a\n",
      "4  :  d\n"
     ]
    }
   ],
   "source": [
    "#0 : S\n",
    "#1 : a\n",
    "#2 : j\n",
    "#3 : a\n",
    "#4 : d\n",
    "\n",
    "#2\n",
    "name = input(\"enter your name: \")\n",
    "counter = 0\n",
    "for j in name:\n",
    "    print(counter,\" : \", j)\n",
    "    counter += 1"
   ]
  },
  {
   "cell_type": "code",
   "execution_count": 33,
   "metadata": {
    "colab": {
     "base_uri": "https://localhost:8080/"
    },
    "id": "qTJIrv7iYLBH",
    "outputId": "877c8d28-e96f-4620-e055-c4ca04f30eb0"
   },
   "outputs": [
    {
     "name": "stdout",
     "output_type": "stream",
     "text": [
      "enter your name: Sajad\n",
      "0  :  S\n",
      "1  :  a\n",
      "2  :  j\n",
      "3  :  a\n",
      "4  :  d\n"
     ]
    }
   ],
   "source": [
    "#0 : S\n",
    "#1 : a\n",
    "#2 : j\n",
    "#3 : a\n",
    "#4 : d\n",
    "\n",
    "#3\n",
    "name = input(\"enter your name: \")\n",
    "\n",
    "for i,j in enumerate(name):\n",
    "    print(i, \" : \", j)"
   ]
  },
  {
   "cell_type": "code",
   "execution_count": 36,
   "metadata": {
    "colab": {
     "base_uri": "https://localhost:8080/"
    },
    "id": "ME0Kc7fjYLDa",
    "outputId": "2aa0f60e-cee6-49d5-a7c5-e5a00ea1dd07"
   },
   "outputs": [
    {
     "name": "stdout",
     "output_type": "stream",
     "text": [
      "1\t2\t3\t4\t5\t6\t7\t8\t9\t10\t\n",
      "\n",
      "2\t4\t6\t8\t10\t12\t14\t16\t18\t20\t\n",
      "\n",
      "3\t6\t9\t12\t15\t18\t21\t24\t27\t30\t\n",
      "\n",
      "4\t8\t12\t16\t20\t24\t28\t32\t36\t40\t\n",
      "\n",
      "5\t10\t15\t20\t25\t30\t35\t40\t45\t50\t\n",
      "\n",
      "6\t12\t18\t24\t30\t36\t42\t48\t54\t60\t\n",
      "\n",
      "7\t14\t21\t28\t35\t42\t49\t56\t63\t70\t\n",
      "\n",
      "8\t16\t24\t32\t40\t48\t56\t64\t72\t80\t\n",
      "\n",
      "9\t18\t27\t36\t45\t54\t63\t72\t81\t90\t\n",
      "\n",
      "10\t20\t30\t40\t50\t60\t70\t80\t90\t100\t\n",
      "\n"
     ]
    }
   ],
   "source": [
    "for i in range(1,11):\n",
    "    for j in range(1,11):\n",
    "        print(i * j, end = \"\\t\")\n",
    "    print(\"\\n\")"
   ]
  },
  {
   "cell_type": "markdown",
   "metadata": {
    "id": "UWcotJ6uqDsn"
   },
   "source": [
    "### **IF Structure**"
   ]
  },
  {
   "cell_type": "code",
   "execution_count": null,
   "metadata": {
    "id": "cDBsOJ7NYLFW"
   },
   "outputs": [],
   "source": [
    "#if condition:\n",
    "    #expression"
   ]
  },
  {
   "cell_type": "code",
   "execution_count": 38,
   "metadata": {
    "colab": {
     "base_uri": "https://localhost:8080/"
    },
    "id": "qF5fC1ONYLHf",
    "outputId": "46d891cd-9af9-4122-e74c-f826f25b34ed"
   },
   "outputs": [
    {
     "name": "stdout",
     "output_type": "stream",
     "text": [
      "enter your number: 8\n",
      "8  :  This is even number\n"
     ]
    }
   ],
   "source": [
    "number = int(input(\"enter your number: \"))\n",
    "\n",
    "if number % 2 == 0:\n",
    "    print(number, \" : \", \"This is even number\")"
   ]
  },
  {
   "cell_type": "code",
   "execution_count": 39,
   "metadata": {
    "colab": {
     "base_uri": "https://localhost:8080/"
    },
    "id": "gltFDL-fYLJe",
    "outputId": "d503c109-2ce6-430e-be30-9f670f97daad"
   },
   "outputs": [
    {
     "name": "stdout",
     "output_type": "stream",
     "text": [
      "enter your number: 7\n",
      "7  :  This is odd number\n"
     ]
    }
   ],
   "source": [
    "number = int(input(\"enter your number: \"))\n",
    "\n",
    "if number % 2 == 0:\n",
    "    print(number, \" : \", \"This is even number\")\n",
    "else:\n",
    "    print(number, \" : \", \"This is odd number\")"
   ]
  },
  {
   "cell_type": "code",
   "execution_count": 41,
   "metadata": {
    "colab": {
     "base_uri": "https://localhost:8080/"
    },
    "id": "ULLpl5ZvYLL2",
    "outputId": "5998f7d0-19a9-4eea-87c6-12849ef82e2b"
   },
   "outputs": [
    {
     "name": "stdout",
     "output_type": "stream",
     "text": [
      "1  :  This is odd number\n",
      "2  :  This is even number\n",
      "3  :  This is odd number\n",
      "4  :  This is even number\n",
      "5  :  This is odd number\n",
      "6  :  This is even number\n",
      "7  :  This is odd number\n",
      "8  :  This is even number\n",
      "9  :  This is odd number\n",
      "10  :  This is even number\n",
      "11  :  This is odd number\n",
      "12  :  This is even number\n",
      "13  :  This is odd number\n",
      "14  :  This is even number\n",
      "15  :  This is odd number\n",
      "16  :  This is even number\n",
      "17  :  This is odd number\n",
      "18  :  This is even number\n",
      "19  :  This is odd number\n",
      "20  :  This is even number\n",
      "21  :  This is odd number\n",
      "22  :  This is even number\n",
      "23  :  This is odd number\n",
      "24  :  This is even number\n",
      "25  :  This is odd number\n",
      "26  :  This is even number\n",
      "27  :  This is odd number\n",
      "28  :  This is even number\n",
      "29  :  This is odd number\n",
      "30  :  This is even number\n"
     ]
    }
   ],
   "source": [
    "for i in range(1,31):\n",
    "    if i % 2 == 0:\n",
    "        print(i, \" : \", \"This is even number\")\n",
    "    else:\n",
    "        print(i, \" : \", \"This is odd number\")"
   ]
  },
  {
   "cell_type": "code",
   "execution_count": 42,
   "metadata": {
    "colab": {
     "base_uri": "https://localhost:8080/"
    },
    "id": "HM3L1dHvYLN4",
    "outputId": "d5722f88-d6c9-4036-a462-d5767ea7f8dc"
   },
   "outputs": [
    {
     "name": "stdout",
     "output_type": "stream",
     "text": [
      "1\n",
      "2\n",
      "3\n",
      "4\n",
      "5\n",
      "6\n",
      "8\n",
      "9\n",
      "10\n"
     ]
    }
   ],
   "source": [
    "for i in range(1,11):\n",
    "    if i == 7:\n",
    "        continue\n",
    "    print(i)"
   ]
  },
  {
   "cell_type": "code",
   "execution_count": 45,
   "metadata": {
    "colab": {
     "base_uri": "https://localhost:8080/"
    },
    "id": "rI7VELGcYLP6",
    "outputId": "7e9a1a0b-d18a-48fd-eab5-de9a2b3509da"
   },
   "outputs": [
    {
     "name": "stdout",
     "output_type": "stream",
     "text": [
      "1\n",
      "2\n",
      "3\n",
      "4\n",
      "5\n",
      "6\n",
      "10\n"
     ]
    }
   ],
   "source": [
    "for i in range(1,11):\n",
    "    if i in [7,8,9]:\n",
    "        continue\n",
    "    print(i)"
   ]
  },
  {
   "cell_type": "code",
   "execution_count": 49,
   "metadata": {
    "colab": {
     "base_uri": "https://localhost:8080/"
    },
    "id": "vg2fHpeMYLSS",
    "outputId": "bd451878-38d2-46f7-b2fe-6ba884c84c25"
   },
   "outputs": [
    {
     "name": "stdout",
     "output_type": "stream",
     "text": [
      "J\n",
      "h\n",
      "n\n"
     ]
    }
   ],
   "source": [
    "word = \"Jahan\"\n",
    "for j in word:\n",
    "    if j == \"a\":\n",
    "        continue\n",
    "    print(j)"
   ]
  },
  {
   "cell_type": "code",
   "execution_count": 50,
   "metadata": {
    "colab": {
     "base_uri": "https://localhost:8080/"
    },
    "id": "rDfQw6tkYLUX",
    "outputId": "5a4f4259-8fdb-4bc3-d1f5-0c74d90d5005"
   },
   "outputs": [
    {
     "name": "stdout",
     "output_type": "stream",
     "text": [
      "J\n",
      "a\n",
      "a\n"
     ]
    }
   ],
   "source": [
    "word = \"Jahan\"\n",
    "for j in word:\n",
    "    if j in [\"h\", \"n\"]:\n",
    "        continue\n",
    "    print(j)"
   ]
  },
  {
   "cell_type": "code",
   "execution_count": 51,
   "metadata": {
    "colab": {
     "base_uri": "https://localhost:8080/"
    },
    "id": "X_GQ8JVQYLWn",
    "outputId": "4498fe58-73a0-403e-fed1-e6580964d9a2"
   },
   "outputs": [
    {
     "name": "stdout",
     "output_type": "stream",
     "text": [
      "1\n",
      "2\n",
      "3\n",
      "4\n",
      "5\n",
      "6\n"
     ]
    }
   ],
   "source": [
    "for i in range(1,11):\n",
    "    if i == 7:\n",
    "        break\n",
    "    print(i)"
   ]
  },
  {
   "cell_type": "code",
   "execution_count": 52,
   "metadata": {
    "colab": {
     "base_uri": "https://localhost:8080/"
    },
    "id": "lxO5-5xCYLY4",
    "outputId": "7c1bc412-bb49-4cd7-ba49-492411d0b6f5"
   },
   "outputs": [
    {
     "name": "stdout",
     "output_type": "stream",
     "text": [
      "1\n",
      "2\n",
      "3\n",
      "4\n",
      "5\n",
      "6\n"
     ]
    }
   ],
   "source": [
    "# WRONG METHOD\n",
    "for i in range(1,11):\n",
    "    if i in [7,8]:\n",
    "        break\n",
    "    print(i)"
   ]
  },
  {
   "cell_type": "code",
   "execution_count": 53,
   "metadata": {
    "colab": {
     "base_uri": "https://localhost:8080/"
    },
    "id": "nv18ZOq2YLbH",
    "outputId": "09c726a6-e3db-442e-856d-e0aeb48bf5f0"
   },
   "outputs": [
    {
     "name": "stdout",
     "output_type": "stream",
     "text": [
      "J\n"
     ]
    }
   ],
   "source": [
    "word = \"Jahan\"\n",
    "for j in word:\n",
    "    if j == \"a\":\n",
    "        break\n",
    "    print(j)"
   ]
  },
  {
   "cell_type": "code",
   "execution_count": 54,
   "metadata": {
    "colab": {
     "base_uri": "https://localhost:8080/"
    },
    "id": "GgmvD_r1YLdX",
    "outputId": "8195bd72-c6ea-4d04-ba9c-8dbb2741ea08"
   },
   "outputs": [
    {
     "name": "stdout",
     "output_type": "stream",
     "text": [
      "J\n",
      "a\n"
     ]
    }
   ],
   "source": [
    "# WRONG METHOD\n",
    "word = \"Jahan\"\n",
    "for j in word:\n",
    "    if j in [\"h\", \"n\"]:\n",
    "        break\n",
    "    print(j)"
   ]
  },
  {
   "cell_type": "code",
   "execution_count": 56,
   "metadata": {
    "colab": {
     "base_uri": "https://localhost:8080/"
    },
    "id": "4gKDNToiYLf7",
    "outputId": "2e4d3f8b-3f1f-4bbf-9468-9866b8259a55"
   },
   "outputs": [
    {
     "name": "stdout",
     "output_type": "stream",
     "text": [
      "2\t4\t8\t10\t14\t16\t18\t20\t22\t24\t26\t28\t30\t"
     ]
    }
   ],
   "source": [
    "#Example\n",
    "#condition: 6,9,12\n",
    "for k in range(2,31,2):\n",
    "    if k in [6,9,12]:\n",
    "        continue\n",
    "    print(k, end = \"\\t\")"
   ]
  },
  {
   "cell_type": "code",
   "execution_count": 57,
   "metadata": {
    "colab": {
     "base_uri": "https://localhost:8080/"
    },
    "id": "NJCxxeLkYLh8",
    "outputId": "eeead5bb-fc81-4103-c2b1-76437dc95ff2"
   },
   "outputs": [
    {
     "name": "stdout",
     "output_type": "stream",
     "text": [
      "enter your number: 8\n",
      "enter your number: 3\n",
      "OK\n"
     ]
    }
   ],
   "source": [
    "a = int(input(\"enter your number: \"))\n",
    "b = int(input(\"enter your number: \"))\n",
    "\n",
    "if a > b and a>= 0:\n",
    "    print(\"OK\")\n",
    "else:\n",
    "    print(\"NOT OK\")"
   ]
  }
 ],
 "metadata": {
  "colab": {
   "name": "Jalase2_MB.ipynb",
   "provenance": []
  },
  "kernelspec": {
   "display_name": "Python 3",
   "language": "python",
   "name": "python3"
  },
  "language_info": {
   "codemirror_mode": {
    "name": "ipython",
    "version": 3
   },
   "file_extension": ".py",
   "mimetype": "text/x-python",
   "name": "python",
   "nbconvert_exporter": "python",
   "pygments_lexer": "ipython3",
   "version": "3.8.8"
  }
 },
 "nbformat": 4,
 "nbformat_minor": 1
}
